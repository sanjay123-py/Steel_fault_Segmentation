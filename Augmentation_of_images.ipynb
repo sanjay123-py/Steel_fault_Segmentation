{
  "cells": [
    {
      "cell_type": "code",
      "execution_count": 1,
      "metadata": {
        "id": "joUeeZEOsu70"
      },
      "outputs": [],
      "source": [
        "import os\n",
        "import albumentations as A\n",
        "import pandas as pd\n",
        "import numpy as np\n",
        "import cv2\n",
        "import shutil\n",
        "import uuid"
      ]
    },
    {
      "cell_type": "code",
      "execution_count": 2,
      "metadata": {
        "id": "42j4Z8P9tu5b",
        "colab": {
          "base_uri": "https://localhost:8080/"
        },
        "outputId": "095b136c-ca7b-4815-8c1b-533fd0bbc9c3"
      },
      "outputs": [
        {
          "output_type": "stream",
          "name": "stdout",
          "text": [
            "Looking in indexes: https://pypi.org/simple, https://us-python.pkg.dev/colab-wheels/public/simple/\n",
            "Requirement already satisfied: kaggle in /usr/local/lib/python3.9/dist-packages (1.5.13)\n",
            "Requirement already satisfied: tqdm in /usr/local/lib/python3.9/dist-packages (from kaggle) (4.65.0)\n",
            "Requirement already satisfied: requests in /usr/local/lib/python3.9/dist-packages (from kaggle) (2.25.1)\n",
            "Requirement already satisfied: six>=1.10 in /usr/local/lib/python3.9/dist-packages (from kaggle) (1.15.0)\n",
            "Requirement already satisfied: python-dateutil in /usr/local/lib/python3.9/dist-packages (from kaggle) (2.8.2)\n",
            "Requirement already satisfied: certifi in /usr/local/lib/python3.9/dist-packages (from kaggle) (2022.12.7)\n",
            "Requirement already satisfied: urllib3 in /usr/local/lib/python3.9/dist-packages (from kaggle) (1.26.15)\n",
            "Requirement already satisfied: python-slugify in /usr/local/lib/python3.9/dist-packages (from kaggle) (8.0.1)\n",
            "Requirement already satisfied: text-unidecode>=1.3 in /usr/local/lib/python3.9/dist-packages (from python-slugify->kaggle) (1.3)\n",
            "Requirement already satisfied: chardet<5,>=3.0.2 in /usr/local/lib/python3.9/dist-packages (from requests->kaggle) (4.0.0)\n",
            "Requirement already satisfied: idna<3,>=2.5 in /usr/local/lib/python3.9/dist-packages (from requests->kaggle) (2.10)\n"
          ]
        }
      ],
      "source": [
        "!pip install kaggle"
      ]
    },
    {
      "cell_type": "code",
      "execution_count": 3,
      "metadata": {
        "colab": {
          "base_uri": "https://localhost:8080/"
        },
        "id": "gv97b5dUtxuI",
        "outputId": "0e1d7033-87d5-44ca-cf40-fe7fb61b485b"
      },
      "outputs": [
        {
          "output_type": "stream",
          "name": "stdout",
          "text": [
            "Mounted at /content/gdrive\n"
          ]
        }
      ],
      "source": [
        "from google.colab import drive\n",
        "drive.mount(\"/content/gdrive\")"
      ]
    },
    {
      "cell_type": "code",
      "execution_count": 4,
      "metadata": {
        "id": "QnOP2Vmjtxrh"
      },
      "outputs": [],
      "source": [
        "!mkdir ~/.kaggle"
      ]
    },
    {
      "cell_type": "code",
      "execution_count": 5,
      "metadata": {
        "id": "GT1vvKYwtxoq"
      },
      "outputs": [],
      "source": [
        "!cp /content/gdrive/MyDrive/kaggle.json ~/.kaggle/kaggle.json"
      ]
    },
    {
      "cell_type": "code",
      "execution_count": 6,
      "metadata": {
        "id": "3hTcwYA9t2Nq"
      },
      "outputs": [],
      "source": [
        "!chmod 600 ~/.kaggle/kaggle.json"
      ]
    },
    {
      "cell_type": "code",
      "execution_count": 7,
      "metadata": {
        "colab": {
          "base_uri": "https://localhost:8080/"
        },
        "id": "1R7HGLZLt4IV",
        "outputId": "d952c739-e1b9-411b-b791-70e6e7aa66ef"
      },
      "outputs": [
        {
          "output_type": "stream",
          "name": "stdout",
          "text": [
            "Downloading severstal-steel-defect-detection.zip to /content\n",
            "100% 1.56G/1.57G [00:16<00:00, 68.1MB/s]\n",
            "100% 1.57G/1.57G [00:16<00:00, 100MB/s] \n"
          ]
        }
      ],
      "source": [
        "!kaggle competitions download severstal-steel-defect-detection"
      ]
    },
    {
      "cell_type": "code",
      "execution_count": null,
      "metadata": {
        "id": "IntIhWQut5-z"
      },
      "outputs": [],
      "source": [
        "! unzip /content/severstal-steel-defect-detection.zip"
      ]
    },
    {
      "cell_type": "code",
      "execution_count": 9,
      "metadata": {
        "id": "XTtlzpZDt92_"
      },
      "outputs": [],
      "source": [
        " !mkdir ./gdrive/MyDrive/Steel_dataset"
      ]
    },
    {
      "cell_type": "code",
      "execution_count": 10,
      "metadata": {
        "colab": {
          "base_uri": "https://localhost:8080/",
          "height": 35
        },
        "id": "MR0gKfqRuvaJ",
        "outputId": "9ac179e2-a949-4fff-9a9b-a21ad499a847"
      },
      "outputs": [
        {
          "output_type": "execute_result",
          "data": {
            "text/plain": [
              "'./gdrive/MyDrive/Steel_dataset/train_images'"
            ],
            "application/vnd.google.colaboratory.intrinsic+json": {
              "type": "string"
            }
          },
          "metadata": {},
          "execution_count": 10
        }
      ],
      "source": [
        "shutil.copytree(\"./test_images\",'./gdrive/MyDrive/Steel_dataset/test_images')\n",
        "shutil.copytree(\"./train_images\",'./gdrive/MyDrive/Steel_dataset/train_images')"
      ]
    },
    {
      "cell_type": "code",
      "source": [],
      "metadata": {
        "id": "mdTZ_8WOGfXy"
      },
      "execution_count": null,
      "outputs": []
    },
    {
      "cell_type": "code",
      "execution_count": 11,
      "metadata": {
        "id": "OVO6jyIFwRaC"
      },
      "outputs": [],
      "source": [
        "train_df=pd.read_csv(\"./train.csv\")"
      ]
    },
    {
      "cell_type": "code",
      "execution_count": 12,
      "metadata": {
        "id": "kHu3EMvYxCu8"
      },
      "outputs": [],
      "source": [
        "df_class_2=train_df[train_df['ClassId']==2].reset_index(drop=True)\n",
        "df_class_1=train_df[train_df['ClassId']==1].reset_index().drop('index',axis=1)\n",
        "df_class_4=train_df[train_df['ClassId']==4].reset_index().drop('index',axis=1)"
      ]
    },
    {
      "cell_type": "code",
      "execution_count": 13,
      "metadata": {
        "id": "Vq_CRa_yxDm5"
      },
      "outputs": [],
      "source": [
        "prob_for_class2=1.\n",
        "prob_for_class1=0.4\n",
        "prob_for_class4=0.5"
      ]
    },
    {
      "cell_type": "code",
      "execution_count": 14,
      "metadata": {
        "id": "I4o8x4M9tpvc"
      },
      "outputs": [],
      "source": [
        "def augmentation(dataframe:pd.DataFrame,prob_for_class:float)->pd.DataFrame:\n",
        "  n_records=int(round(prob_for_class*(len(dataframe)-1)))\n",
        "  new_df=dict({\n",
        "      'ImageId':[],\n",
        "      'ClassId':[],\n",
        "      'EncodedPixels':[],\n",
        "      'ImageId_ClassId':[]\n",
        "  })\n",
        "  for i in range(n_records):\n",
        "    record=dataframe.loc[np.random.randint(n_records)]\n",
        "    image_name=record[\"ImageId\"]\n",
        "    image_class=record['ClassId']\n",
        "    image=cv2.imread(os.path.join(\"./train_images\",image_name))\n",
        "    image=cv2.resize(image,(1600,256))\n",
        "    image = cv2.cvtColor(image, cv2.COLOR_BGR2RGB)\n",
        "    mask=rle_to_mask(record['EncodedPixels'])\n",
        "    transformed=transform(image=image,mask=mask)\n",
        "    transformed_image=transformed['image']\n",
        "    transformed_mask=transformed['mask']\n",
        "    encoded_transformed_mask=mask_to_rle(transformed_mask.T)\n",
        "    u_id=str(uuid.uuid1())\n",
        "    save_directory_path=os.path.join(\"/content/gdrive/MyDrive/Steel_dataset/train_images\",(u_id+'.jpg'))\n",
        "    new_df['ImageId'].append(u_id+'.jpg')\n",
        "    new_df['ClassId'].append(image_class)\n",
        "    new_df['EncodedPixels'].append(encoded_transformed_mask)\n",
        "    new_df['ImageId_ClassId'].append(u_id+'.jpg'+'_'+str(image_class))\n",
        "    cv2.imwrite(save_directory_path,transformed_image)\n",
        "  return pd.DataFrame(new_df)"
      ]
    },
    {
      "cell_type": "code",
      "execution_count": 14,
      "metadata": {
        "id": "6xIDk_MOg7tl"
      },
      "outputs": [],
      "source": [
        "# def augmentation_test(dataframe:pd.DataFrame):\n",
        "#   record=dataframe.loc[np.random.randint(10)]\n",
        "#   image=cv2.imread(os.path.join(\"./train_images\",record['ImageId']),0)\n",
        "#   image=cv2.resize(image,(1600,256))\n",
        "#   mask=rle_to_mask(record['EncodedPixels'])\n",
        "#   transformed=transform(image=image,mask=mask)\n",
        "#   transformed_image=transformed['image']\n",
        "#   transformed_mask=transformed['mask']\n",
        "#   return transformed_image,transformed_mask,mask"
      ]
    },
    {
      "cell_type": "code",
      "execution_count": 15,
      "metadata": {
        "id": "RF7fhys9g_-B"
      },
      "outputs": [],
      "source": [
        "train_df['ImageId_ClassId'] = train_df.apply(lambda x: '{}_{}'.format(x.ImageId, x.ClassId), axis=1)"
      ]
    },
    {
      "cell_type": "code",
      "execution_count": null,
      "metadata": {
        "id": "malyteSVky--"
      },
      "outputs": [],
      "source": []
    },
    {
      "cell_type": "code",
      "execution_count": null,
      "metadata": {
        "colab": {
          "base_uri": "https://localhost:8080/",
          "height": 123
        },
        "id": "T47NsgZkkepn",
        "outputId": "413f1f32-e0f7-48b9-b6b9-39e2cfa94394"
      },
      "outputs": [
        {
          "data": {
            "text/plain": [
              "<matplotlib.image.AxesImage at 0x7fd41d859340>"
            ]
          },
          "execution_count": 186,
          "metadata": {},
          "output_type": "execute_result"
        },
        {
          "data": {
            "image/png": "[encoded data removed]",
            "text/plain": [
              "<Figure size 432x288 with 1 Axes>"
            ]
          },
          "metadata": {},
          "output_type": "display_data"
        }
      ],
      "source": []
    },
    {
      "cell_type": "code",
      "execution_count": null,
      "metadata": {
        "colab": {
          "base_uri": "https://localhost:8080/",
          "height": 123
        },
        "id": "bPhnXxlvhCY8",
        "outputId": "e62d392e-3d08-4eff-9e0a-ac2d9875c34a"
      },
      "outputs": [
        {
          "data": {
            "text/plain": [
              "<matplotlib.image.AxesImage at 0x7fd424859040>"
            ]
          },
          "execution_count": 148,
          "metadata": {},
          "output_type": "execute_result"
        },
        {
          "data": {
            "image/png": "[encoded data removed]",
            "text/plain": [
              "<Figure size 432x288 with 1 Axes>"
            ]
          },
          "metadata": {},
          "output_type": "display_data"
        }
      ],
      "source": [
        "plt.imshow(img)\n",
        "plt.imshow(mask,alpha=0.3)"
      ]
    },
    {
      "cell_type": "code",
      "execution_count": 20,
      "metadata": {
        "id": "SSfvNbipdrb4"
      },
      "outputs": [],
      "source": [
        "import matplotlib.pyplot as plt"
      ]
    },
    {
      "cell_type": "code",
      "execution_count": 18,
      "metadata": {
        "id": "ciba6PKazm7q"
      },
      "outputs": [],
      "source": [
        "import albumentations as A\n",
        "transform = A.Compose([\n",
        "    A.HorizontalFlip(p=0.5),\n",
        "    A.VerticalFlip(p=0.5),\n",
        "])"
      ]
    },
    {
      "cell_type": "code",
      "execution_count": 16,
      "metadata": {
        "id": "_KRpOrGzza_s"
      },
      "outputs": [],
      "source": [
        "def mask_to_rle(mask):\n",
        "    \"\"\"\n",
        "    params:  mask - numpy array\n",
        "    returns: run-length encoding string (pairs of start & length of encoding)\n",
        "    \"\"\"\n",
        "    # turn a n-dimensional array into a 1-dimensional series of pixels\n",
        "    # for example:\n",
        "    #     [[1. 1. 0.]\n",
        "    #      [0. 0. 0.]   --> [1. 1. 0. 0. 0. 0. 1. 0. 0.]\n",
        "    #      [1. 0. 0.]]\n",
        "    flat = mask.flatten()\n",
        "    \n",
        "    # we find consecutive sequences by overlaying the mask\n",
        "    # on a version of itself that is displaced by 1 pixel\n",
        "    # for that, we add some padding before slicing\n",
        "    padded = np.concatenate([[0], flat, [0]])\n",
        "    \n",
        "    # this returns the indices where the sliced arrays differ\n",
        "    runs = np.where(padded[1:] != padded[:-1])[0] \n",
        "    # indexes start at 0, pixel numbers start at 1\n",
        "    runs += 1\n",
        "\n",
        "    # every uneven element represents the start of a new sequence\n",
        "    # every even element is where the run comes to a stop\n",
        "    # subtract the former from the latter to get the length of the run\n",
        "    runs[1::2] -= runs[0::2]\n",
        " \n",
        "    # convert the array to a string\n",
        "    return ' '.join(str(x) for x in runs)"
      ]
    },
    {
      "cell_type": "code",
      "execution_count": 17,
      "metadata": {
        "id": "kO39Lf1XzjZl"
      },
      "outputs": [],
      "source": [
        "def rle_to_mask(lre, shape=(1600, 256)):\n",
        "    '''\n",
        "    params:  rle   - run-length encoding string (pairs of start & length of encoding)\n",
        "             shape - (width,height) of numpy array to return \n",
        "    \n",
        "    returns: numpy array with dimensions of shape parameter\n",
        "    '''    \n",
        "    # the incoming string is space-delimited\n",
        "    runs = np.asarray([int(run) for run in lre.split(' ')])\n",
        "    \n",
        "    # we do the same operation with the even and uneven elements, but this time with addition\n",
        "    runs[1::2] += runs[0::2]\n",
        "    # pixel numbers start at 1, indexes start at 0\n",
        "    runs -= 1\n",
        "    \n",
        "    # extract the starting and ending indeces at even and uneven intervals, respectively\n",
        "    run_starts, run_ends = runs[0::2], runs[1::2]\n",
        "    \n",
        "    # build the mask\n",
        "    h, w = shape\n",
        "    mask = np.zeros(h*w, dtype=np.uint8)\n",
        "    for start, end in zip(run_starts, run_ends):\n",
        "        mask[start:end] = 1\n",
        "    \n",
        "    # transform the numpy array from flat to the original image shape\n",
        "    return mask.reshape(shape).T"
      ]
    },
    {
      "cell_type": "code",
      "execution_count": null,
      "metadata": {
        "id": "ZxyqenG5A9ZY"
      },
      "outputs": [],
      "source": []
    },
    {
      "cell_type": "code",
      "execution_count": 50,
      "metadata": {
        "colab": {
          "base_uri": "https://localhost:8080/",
          "height": 105
        },
        "id": "C-YbXVGAlEhJ",
        "outputId": "4250db02-40f0-4566-d695-e95d7c3cde8f"
      },
      "outputs": [
        {
          "output_type": "display_data",
          "data": {
            "text/plain": [
              "<Figure size 432x288 with 1 Axes>"
            ],
            "image/png": "[encoded data removed]"
          },
          "metadata": {
            "needs_background": "light"
          }
        }
      ],
      "source": [
        "img,mask,org=augmentation_test(train_df)\n",
        "lre=mask_to_rle(mask.T)\n",
        "plt.imshow(mask)\n",
        "lree=rle_to_mask(lre)\n"
      ]
    },
    {
      "cell_type": "code",
      "execution_count": 51,
      "metadata": {
        "colab": {
          "base_uri": "https://localhost:8080/",
          "height": 123
        },
        "id": "WDEwJyOoAMLQ",
        "outputId": "4a320f59-6a98-47d5-d135-baad3e31979e"
      },
      "outputs": [
        {
          "output_type": "execute_result",
          "data": {
            "text/plain": [
              "<matplotlib.image.AxesImage at 0x7fc6d748a940>"
            ]
          },
          "metadata": {},
          "execution_count": 51
        },
        {
          "output_type": "display_data",
          "data": {
            "text/plain": [
              "<Figure size 432x288 with 1 Axes>"
            ],
            "image/png": "[encoded data removed]"
          },
          "metadata": {
            "needs_background": "light"
          }
        }
      ],
      "source": [
        "plt.imshow(org)"
      ]
    },
    {
      "cell_type": "code",
      "source": [
        "plt.imshow(lree)"
      ],
      "metadata": {
        "colab": {
          "base_uri": "https://localhost:8080/",
          "height": 123
        },
        "id": "6r0pMyO1tzCZ",
        "outputId": "8efcc779-524b-4939-aae3-c30ed1bfae46"
      },
      "execution_count": 52,
      "outputs": [
        {
          "output_type": "execute_result",
          "data": {
            "text/plain": [
              "<matplotlib.image.AxesImage at 0x7fc6d71981c0>"
            ]
          },
          "metadata": {},
          "execution_count": 52
        },
        {
          "output_type": "display_data",
          "data": {
            "text/plain": [
              "<Figure size 432x288 with 1 Axes>"
            ],
            "image/png": "[encoded data removed]"
          },
          "metadata": {
            "needs_background": "light"
          }
        }
      ]
    },
    {
      "cell_type": "code",
      "source": [
        "pd.Series(mask.flatten()).value_counts()"
      ],
      "metadata": {
        "colab": {
          "base_uri": "https://localhost:8080/"
        },
        "id": "Q6oMos9ZsKpY",
        "outputId": "d967239d-aed4-4e13-8d3a-b3698f9708fd"
      },
      "execution_count": 43,
      "outputs": [
        {
          "output_type": "execute_result",
          "data": {
            "text/plain": [
              "0    405204\n",
              "1      4396\n",
              "dtype: int64"
            ]
          },
          "metadata": {},
          "execution_count": 43
        }
      ]
    },
    {
      "cell_type": "code",
      "source": [
        "mask.flatten().shape"
      ],
      "metadata": {
        "colab": {
          "base_uri": "https://localhost:8080/"
        },
        "id": "o62w7HYosaYL",
        "outputId": "4c5b9ca0-642d-4913-fcca-3b256772df42"
      },
      "execution_count": 28,
      "outputs": [
        {
          "output_type": "execute_result",
          "data": {
            "text/plain": [
              "(409600,)"
            ]
          },
          "metadata": {},
          "execution_count": 28
        }
      ]
    },
    {
      "cell_type": "code",
      "source": [
        "flat=mask.flatten()"
      ],
      "metadata": {
        "id": "ZlkOMPzpsVt_"
      },
      "execution_count": 26,
      "outputs": []
    },
    {
      "cell_type": "code",
      "source": [
        "padded = np.concatenate([[0], flat, [0]])"
      ],
      "metadata": {
        "id": "rBz9vMlNsSQY"
      },
      "execution_count": 27,
      "outputs": []
    },
    {
      "cell_type": "code",
      "source": [
        "padded.shape"
      ],
      "metadata": {
        "colab": {
          "base_uri": "https://localhost:8080/"
        },
        "id": "DTe-RmB5sdqW",
        "outputId": "81be1423-d40b-40b7-92dc-c59ed7e899ff"
      },
      "execution_count": 29,
      "outputs": [
        {
          "output_type": "execute_result",
          "data": {
            "text/plain": [
              "(409602,)"
            ]
          },
          "metadata": {},
          "execution_count": 29
        }
      ]
    },
    {
      "cell_type": "code",
      "source": [],
      "metadata": {
        "id": "x3-xFLWutGw7"
      },
      "execution_count": 36,
      "outputs": []
    },
    {
      "cell_type": "code",
      "source": [
        "runs = np.where(padded[1:] != padded[:-1])[0] \n",
        "runs += 1"
      ],
      "metadata": {
        "id": "iGSyM7eisgGW"
      },
      "execution_count": 37,
      "outputs": []
    },
    {
      "cell_type": "markdown",
      "source": [],
      "metadata": {
        "id": "oMpm0K-rtRA8"
      }
    },
    {
      "cell_type": "code",
      "source": [
        "runs"
      ],
      "metadata": {
        "colab": {
          "base_uri": "https://localhost:8080/"
        },
        "id": "fFsOA98isvZk",
        "outputId": "525309bf-9a4f-4998-eb92-6163ee56c8aa"
      },
      "execution_count": 38,
      "outputs": [
        {
          "output_type": "execute_result",
          "data": {
            "text/plain": [
              "array([   569,    585,   2169,   2185,   3769,   3785,   5369,   5385,\n",
              "         6969,   6985,   8569,   8585,  10169,  10185,  11770,  11785,\n",
              "        13370,  13385,  14970,  14985,  16570,  16585,  18170,  18185,\n",
              "        19770,  19785,  21370,  21385,  22970,  22985,  24570,  24585,\n",
              "        26170,  26185,  27770,  27785,  29370,  29385,  30970,  30985,\n",
              "        32571,  32585,  34171,  34185,  35771,  35785,  37371,  37385,\n",
              "        38971,  38985,  40571,  40585,  42171,  42185,  43771,  43785,\n",
              "        45371,  45385,  46971,  46985,  48571,  48585,  50171,  50185,\n",
              "        51771,  51785,  53372,  53385,  54972,  54985,  56572,  56585,\n",
              "        58172,  58185,  59772,  59785,  61372,  61385,  62972,  62985,\n",
              "        64572,  64585,  66172,  66185,  67772,  67785,  69372,  69385,\n",
              "        70972,  70985,  72572,  72585,  74172,  74185,  75773,  75786,\n",
              "        77373,  77386,  78973,  78986,  80573,  80586,  82173,  82186,\n",
              "        83773,  83786,  85373,  85386,  86973,  86986,  88573,  88586,\n",
              "        90173,  90186,  91773,  91786,  93373,  93386,  94973,  94986,\n",
              "        96574,  96586,  98174,  98186,  99774,  99786, 101374, 101386,\n",
              "       102974, 102986, 104574, 104586, 106174, 106186, 107774, 107786,\n",
              "       109374, 109386, 110974, 110986, 112574, 112586, 114174, 114186,\n",
              "       115774, 115786, 117375, 117386, 118975, 118986, 120575, 120586,\n",
              "       122175, 122186, 123775, 123786, 125375, 125386, 126975, 126986,\n",
              "       128575, 128586, 130175, 130186, 131775, 131786, 133375, 133386,\n",
              "       134975, 134986, 136575, 136586, 138176, 138186, 139776, 139786,\n",
              "       141376, 141386, 142976, 142986, 144576, 144586, 146176, 146186,\n",
              "       147776, 147786])"
            ]
          },
          "metadata": {},
          "execution_count": 38
        }
      ]
    },
    {
      "cell_type": "code",
      "source": [
        "runs[1::2]-=runs[::2]"
      ],
      "metadata": {
        "id": "_sbz0wyZsjOX"
      },
      "execution_count": 39,
      "outputs": []
    },
    {
      "cell_type": "code",
      "source": [
        "runs"
      ],
      "metadata": {
        "colab": {
          "base_uri": "https://localhost:8080/"
        },
        "id": "8jEV_h1osp81",
        "outputId": "9ee4274a-5f3b-4139-ebcf-0d9e99e66dd3"
      },
      "execution_count": 40,
      "outputs": [
        {
          "output_type": "execute_result",
          "data": {
            "text/plain": [
              "array([   569,     16,   2169,     16,   3769,     16,   5369,     16,\n",
              "         6969,     16,   8569,     16,  10169,     16,  11770,     15,\n",
              "        13370,     15,  14970,     15,  16570,     15,  18170,     15,\n",
              "        19770,     15,  21370,     15,  22970,     15,  24570,     15,\n",
              "        26170,     15,  27770,     15,  29370,     15,  30970,     15,\n",
              "        32571,     14,  34171,     14,  35771,     14,  37371,     14,\n",
              "        38971,     14,  40571,     14,  42171,     14,  43771,     14,\n",
              "        45371,     14,  46971,     14,  48571,     14,  50171,     14,\n",
              "        51771,     14,  53372,     13,  54972,     13,  56572,     13,\n",
              "        58172,     13,  59772,     13,  61372,     13,  62972,     13,\n",
              "        64572,     13,  66172,     13,  67772,     13,  69372,     13,\n",
              "        70972,     13,  72572,     13,  74172,     13,  75773,     13,\n",
              "        77373,     13,  78973,     13,  80573,     13,  82173,     13,\n",
              "        83773,     13,  85373,     13,  86973,     13,  88573,     13,\n",
              "        90173,     13,  91773,     13,  93373,     13,  94973,     13,\n",
              "        96574,     12,  98174,     12,  99774,     12, 101374,     12,\n",
              "       102974,     12, 104574,     12, 106174,     12, 107774,     12,\n",
              "       109374,     12, 110974,     12, 112574,     12, 114174,     12,\n",
              "       115774,     12, 117375,     11, 118975,     11, 120575,     11,\n",
              "       122175,     11, 123775,     11, 125375,     11, 126975,     11,\n",
              "       128575,     11, 130175,     11, 131775,     11, 133375,     11,\n",
              "       134975,     11, 136575,     11, 138176,     10, 139776,     10,\n",
              "       141376,     10, 142976,     10, 144576,     10, 146176,     10,\n",
              "       147776,     10])"
            ]
          },
          "metadata": {},
          "execution_count": 40
        }
      ]
    },
    {
      "cell_type": "code",
      "source": [
        "rle_manual=\" \".join(for x in runs)"
      ],
      "metadata": {
        "id": "NBkRvpwxtVwX"
      },
      "execution_count": null,
      "outputs": []
    },
    {
      "cell_type": "code",
      "execution_count": 23,
      "metadata": {
        "colab": {
          "base_uri": "https://localhost:8080/",
          "height": 123
        },
        "id": "UNfmf8y_1hyu",
        "outputId": "2721a8c6-d1a7-4449-8abb-c4b29d734a0a"
      },
      "outputs": [
        {
          "output_type": "execute_result",
          "data": {
            "text/plain": [
              "<matplotlib.image.AxesImage at 0x7fc6dc7ee130>"
            ]
          },
          "metadata": {},
          "execution_count": 23
        },
        {
          "output_type": "display_data",
          "data": {
            "text/plain": [
              "<Figure size 432x288 with 1 Axes>"
            ],
            "image/png": "[encoded data removed]"
          },
          "metadata": {
            "needs_background": "light"
          }
        }
      ],
      "source": [
        "plt.imshow(lree)"
      ]
    },
    {
      "cell_type": "code",
      "source": [],
      "metadata": {
        "id": "tviDV-IVQbdk"
      },
      "execution_count": 28,
      "outputs": []
    },
    {
      "cell_type": "code",
      "execution_count": 27,
      "metadata": {
        "colab": {
          "base_uri": "https://localhost:8080/"
        },
        "id": "KMaVNPYYlJfq",
        "outputId": "56e66b53-b372-4c3b-fd23-ff9834675e94"
      },
      "outputs": [
        {
          "output_type": "execute_result",
          "data": {
            "text/plain": [
              "['test_images', 'train_images', 'aug_train.csv']"
            ]
          },
          "metadata": {},
          "execution_count": 27
        }
      ],
      "source": [
        "os.listdir('./gdrive/MyDrive/Steel_dataset')"
      ]
    },
    {
      "cell_type": "code",
      "execution_count": 19,
      "metadata": {
        "id": "oYwIz7uxzRiU"
      },
      "outputs": [],
      "source": [
        "df_2=augmentation(df_class_2,prob_for_class2)"
      ]
    },
    {
      "cell_type": "code",
      "execution_count": 20,
      "metadata": {
        "id": "DPpUFyeBzZ-k"
      },
      "outputs": [],
      "source": [
        "df_4=augmentation(df_class_4,prob_for_class4)"
      ]
    },
    {
      "cell_type": "code",
      "execution_count": 21,
      "metadata": {
        "id": "L45uvJzazvLn"
      },
      "outputs": [],
      "source": [
        "df_1=augmentation(df_class_1,prob_for_class1)"
      ]
    },
    {
      "cell_type": "code",
      "execution_count": 22,
      "metadata": {
        "id": "PHcSL-YVa5Cp"
      },
      "outputs": [],
      "source": [
        "train_df=pd.concat([train_df,df_2,df_4,df_1],axis=0).reset_index(drop=True)"
      ]
    },
    {
      "cell_type": "code",
      "execution_count": 23,
      "metadata": {
        "id": "SLKWHD_ee51Q"
      },
      "outputs": [],
      "source": [
        "train_df.to_csv(\"./gdrive/MyDrive/Steel_dataset/aug_train.csv\")"
      ]
    },
    {
      "cell_type": "code",
      "source": [
        "pd.read_csv('./gdrive/MyDrive/Steel_dataset/aug_train.csv')"
      ],
      "metadata": {
        "colab": {
          "base_uri": "https://localhost:8080/",
          "height": 659
        },
        "id": "cE-zIhJvNdtI",
        "outputId": "a3fe886a-d5a2-48cd-f500-ddd73bfaafc7"
      },
      "execution_count": 24,
      "outputs": [
        {
          "output_type": "execute_result",
          "data": {
            "text/plain": [
              "      Unnamed: 0                                   ImageId  ClassId  \\\n",
              "0              0                             0002cc93b.jpg        1   \n",
              "1              1                             0007a71bf.jpg        3   \n",
              "2              2                             000a4bcdd.jpg        1   \n",
              "3              3                             000f6bf48.jpg        4   \n",
              "4              4                             0014fce06.jpg        3   \n",
              "...          ...                                       ...      ...   \n",
              "8094        8094  87097994-c4da-11ed-8a06-0242ac1c000c.jpg        1   \n",
              "8095        8095  870efc70-c4da-11ed-8a06-0242ac1c000c.jpg        1   \n",
              "8096        8096  87159fda-c4da-11ed-8a06-0242ac1c000c.jpg        1   \n",
              "8097        8097  871b5da8-c4da-11ed-8a06-0242ac1c000c.jpg        1   \n",
              "8098        8098  87240ce6-c4da-11ed-8a06-0242ac1c000c.jpg        1   \n",
              "\n",
              "                                          EncodedPixels  \\\n",
              "0     29102 12 29346 24 29602 24 29858 24 30114 24 3...   \n",
              "1     18661 28 18863 82 19091 110 19347 110 19603 11...   \n",
              "2     37607 3 37858 8 38108 14 38359 20 38610 25 388...   \n",
              "3     131973 1 132228 4 132483 6 132738 8 132993 11 ...   \n",
              "4     229501 11 229741 33 229981 55 230221 77 230468...   \n",
              "...                                                 ...   \n",
              "8094  45415 11 45667 25 45923 29 46179 33 46433 38 4...   \n",
              "8095  17806 23 18055 54 18304 69 18552 86 18801 99 1...   \n",
              "8096  105524 28 105780 34 106035 41 106291 47 106547...   \n",
              "8097  354182 9 354435 20 354689 28 354943 35 354985 ...   \n",
              "8098  197904 11 198156 26 198408 81 198661 94 198915...   \n",
              "\n",
              "                                 ImageId_ClassId  \n",
              "0                                0002cc93b.jpg_1  \n",
              "1                                0007a71bf.jpg_3  \n",
              "2                                000a4bcdd.jpg_1  \n",
              "3                                000f6bf48.jpg_4  \n",
              "4                                0014fce06.jpg_3  \n",
              "...                                          ...  \n",
              "8094  87097994-c4da-11ed-8a06-0242ac1c000c.jpg_1  \n",
              "8095  870efc70-c4da-11ed-8a06-0242ac1c000c.jpg_1  \n",
              "8096  87159fda-c4da-11ed-8a06-0242ac1c000c.jpg_1  \n",
              "8097  871b5da8-c4da-11ed-8a06-0242ac1c000c.jpg_1  \n",
              "8098  87240ce6-c4da-11ed-8a06-0242ac1c000c.jpg_1  \n",
              "\n",
              "[8099 rows x 5 columns]"
            ],
            "text/html": [
              "\n",
              "  <div id=\"df-4b25523c-81c4-4cb7-95db-5cad91bf7bb7\">\n",
              "    <div class=\"colab-df-container\">\n",
              "      <div>\n",
              "<style scoped>\n",
              "    .dataframe tbody tr th:only-of-type {\n",
              "        vertical-align: middle;\n",
              "    }\n",
              "\n",
              "    .dataframe tbody tr th {\n",
              "        vertical-align: top;\n",
              "    }\n",
              "\n",
              "    .dataframe thead th {\n",
              "        text-align: right;\n",
              "    }\n",
              "</style>\n",
              "<table border=\"1\" class=\"dataframe\">\n",
              "  <thead>\n",
              "    <tr style=\"text-align: right;\">\n",
              "      <th></th>\n",
              "      <th>Unnamed: 0</th>\n",
              "      <th>ImageId</th>\n",
              "      <th>ClassId</th>\n",
              "      <th>EncodedPixels</th>\n",
              "      <th>ImageId_ClassId</th>\n",
              "    </tr>\n",
              "  </thead>\n",
              "  <tbody>\n",
              "    <tr>\n",
              "      <th>0</th>\n",
              "      <td>0</td>\n",
              "      <td>0002cc93b.jpg</td>\n",
              "      <td>1</td>\n",
              "      <td>29102 12 29346 24 29602 24 29858 24 30114 24 3...</td>\n",
              "      <td>0002cc93b.jpg_1</td>\n",
              "    </tr>\n",
              "    <tr>\n",
              "      <th>1</th>\n",
              "      <td>1</td>\n",
              "      <td>0007a71bf.jpg</td>\n",
              "      <td>3</td>\n",
              "      <td>18661 28 18863 82 19091 110 19347 110 19603 11...</td>\n",
              "      <td>0007a71bf.jpg_3</td>\n",
              "    </tr>\n",
              "    <tr>\n",
              "      <th>2</th>\n",
              "      <td>2</td>\n",
              "      <td>000a4bcdd.jpg</td>\n",
              "      <td>1</td>\n",
              "      <td>37607 3 37858 8 38108 14 38359 20 38610 25 388...</td>\n",
              "      <td>000a4bcdd.jpg_1</td>\n",
              "    </tr>\n",
              "    <tr>\n",
              "      <th>3</th>\n",
              "      <td>3</td>\n",
              "      <td>000f6bf48.jpg</td>\n",
              "      <td>4</td>\n",
              "      <td>131973 1 132228 4 132483 6 132738 8 132993 11 ...</td>\n",
              "      <td>000f6bf48.jpg_4</td>\n",
              "    </tr>\n",
              "    <tr>\n",
              "      <th>4</th>\n",
              "      <td>4</td>\n",
              "      <td>0014fce06.jpg</td>\n",
              "      <td>3</td>\n",
              "      <td>229501 11 229741 33 229981 55 230221 77 230468...</td>\n",
              "      <td>0014fce06.jpg_3</td>\n",
              "    </tr>\n",
              "    <tr>\n",
              "      <th>...</th>\n",
              "      <td>...</td>\n",
              "      <td>...</td>\n",
              "      <td>...</td>\n",
              "      <td>...</td>\n",
              "      <td>...</td>\n",
              "    </tr>\n",
              "    <tr>\n",
              "      <th>8094</th>\n",
              "      <td>8094</td>\n",
              "      <td>87097994-c4da-11ed-8a06-0242ac1c000c.jpg</td>\n",
              "      <td>1</td>\n",
              "      <td>45415 11 45667 25 45923 29 46179 33 46433 38 4...</td>\n",
              "      <td>87097994-c4da-11ed-8a06-0242ac1c000c.jpg_1</td>\n",
              "    </tr>\n",
              "    <tr>\n",
              "      <th>8095</th>\n",
              "      <td>8095</td>\n",
              "      <td>870efc70-c4da-11ed-8a06-0242ac1c000c.jpg</td>\n",
              "      <td>1</td>\n",
              "      <td>17806 23 18055 54 18304 69 18552 86 18801 99 1...</td>\n",
              "      <td>870efc70-c4da-11ed-8a06-0242ac1c000c.jpg_1</td>\n",
              "    </tr>\n",
              "    <tr>\n",
              "      <th>8096</th>\n",
              "      <td>8096</td>\n",
              "      <td>87159fda-c4da-11ed-8a06-0242ac1c000c.jpg</td>\n",
              "      <td>1</td>\n",
              "      <td>105524 28 105780 34 106035 41 106291 47 106547...</td>\n",
              "      <td>87159fda-c4da-11ed-8a06-0242ac1c000c.jpg_1</td>\n",
              "    </tr>\n",
              "    <tr>\n",
              "      <th>8097</th>\n",
              "      <td>8097</td>\n",
              "      <td>871b5da8-c4da-11ed-8a06-0242ac1c000c.jpg</td>\n",
              "      <td>1</td>\n",
              "      <td>354182 9 354435 20 354689 28 354943 35 354985 ...</td>\n",
              "      <td>871b5da8-c4da-11ed-8a06-0242ac1c000c.jpg_1</td>\n",
              "    </tr>\n",
              "    <tr>\n",
              "      <th>8098</th>\n",
              "      <td>8098</td>\n",
              "      <td>87240ce6-c4da-11ed-8a06-0242ac1c000c.jpg</td>\n",
              "      <td>1</td>\n",
              "      <td>197904 11 198156 26 198408 81 198661 94 198915...</td>\n",
              "      <td>87240ce6-c4da-11ed-8a06-0242ac1c000c.jpg_1</td>\n",
              "    </tr>\n",
              "  </tbody>\n",
              "</table>\n",
              "<p>8099 rows × 5 columns</p>\n",
              "</div>\n",
              "      <button class=\"colab-df-convert\" onclick=\"convertToInteractive('df-4b25523c-81c4-4cb7-95db-5cad91bf7bb7')\"\n",
              "              title=\"Convert this dataframe to an interactive table.\"\n",
              "              style=\"display:none;\">\n",
              "        \n",
              "  <svg xmlns=\"http://www.w3.org/2000/svg\" height=\"24px\"viewBox=\"0 0 24 24\"\n",
              "       width=\"24px\">\n",
              "    <path d=\"M0 0h24v24H0V0z\" fill=\"none\"/>\n",
              "    <path d=\"M18.56 5.44l.94 2.06.94-2.06 2.06-.94-2.06-.94-.94-2.06-.94 2.06-2.06.94zm-11 1L8.5 8.5l.94-2.06 2.06-.94-2.06-.94L8.5 2.5l-.94 2.06-2.06.94zm10 10l.94 2.06.94-2.06 2.06-.94-2.06-.94-.94-2.06-.94 2.06-2.06.94z\"/><path d=\"M17.41 7.96l-1.37-1.37c-.4-.4-.92-.59-1.43-.59-.52 0-1.04.2-1.43.59L10.3 9.45l-7.72 7.72c-.78.78-.78 2.05 0 2.83L4 21.41c.39.39.9.59 1.41.59.51 0 1.02-.2 1.41-.59l7.78-7.78 2.81-2.81c.8-.78.8-2.07 0-2.86zM5.41 20L4 18.59l7.72-7.72 1.47 1.35L5.41 20z\"/>\n",
              "  </svg>\n",
              "      </button>\n",
              "      \n",
              "  <style>\n",
              "    .colab-df-container {\n",
              "      display:flex;\n",
              "      flex-wrap:wrap;\n",
              "      gap: 12px;\n",
              "    }\n",
              "\n",
              "    .colab-df-convert {\n",
              "      background-color: #E8F0FE;\n",
              "      border: none;\n",
              "      border-radius: 50%;\n",
              "      cursor: pointer;\n",
              "      display: none;\n",
              "      fill: #1967D2;\n",
              "      height: 32px;\n",
              "      padding: 0 0 0 0;\n",
              "      width: 32px;\n",
              "    }\n",
              "\n",
              "    .colab-df-convert:hover {\n",
              "      background-color: #E2EBFA;\n",
              "      box-shadow: 0px 1px 2px rgba(60, 64, 67, 0.3), 0px 1px 3px 1px rgba(60, 64, 67, 0.15);\n",
              "      fill: #174EA6;\n",
              "    }\n",
              "\n",
              "    [theme=dark] .colab-df-convert {\n",
              "      background-color: #3B4455;\n",
              "      fill: #D2E3FC;\n",
              "    }\n",
              "\n",
              "    [theme=dark] .colab-df-convert:hover {\n",
              "      background-color: #434B5C;\n",
              "      box-shadow: 0px 1px 3px 1px rgba(0, 0, 0, 0.15);\n",
              "      filter: drop-shadow(0px 1px 2px rgba(0, 0, 0, 0.3));\n",
              "      fill: #FFFFFF;\n",
              "    }\n",
              "  </style>\n",
              "\n",
              "      <script>\n",
              "        const buttonEl =\n",
              "          document.querySelector('#df-4b25523c-81c4-4cb7-95db-5cad91bf7bb7 button.colab-df-convert');\n",
              "        buttonEl.style.display =\n",
              "          google.colab.kernel.accessAllowed ? 'block' : 'none';\n",
              "\n",
              "        async function convertToInteractive(key) {\n",
              "          const element = document.querySelector('#df-4b25523c-81c4-4cb7-95db-5cad91bf7bb7');\n",
              "          const dataTable =\n",
              "            await google.colab.kernel.invokeFunction('convertToInteractive',\n",
              "                                                     [key], {});\n",
              "          if (!dataTable) return;\n",
              "\n",
              "          const docLinkHtml = 'Like what you see? Visit the ' +\n",
              "            '<a target=\"_blank\" href=https://colab.research.google.com/notebooks/data_table.ipynb>data table notebook</a>'\n",
              "            + ' to learn more about interactive tables.';\n",
              "          element.innerHTML = '';\n",
              "          dataTable['output_type'] = 'display_data';\n",
              "          await google.colab.output.renderOutput(dataTable, element);\n",
              "          const docLink = document.createElement('div');\n",
              "          docLink.innerHTML = docLinkHtml;\n",
              "          element.appendChild(docLink);\n",
              "        }\n",
              "      </script>\n",
              "    </div>\n",
              "  </div>\n",
              "  "
            ]
          },
          "metadata": {},
          "execution_count": 24
        }
      ]
    },
    {
      "cell_type": "code",
      "execution_count": null,
      "metadata": {
        "colab": {
          "base_uri": "https://localhost:8080/",
          "height": 123
        },
        "id": "joOvIehDb29D",
        "outputId": "ebe59fe5-c53a-438a-c5fd-aede946ee7e7"
      },
      "outputs": [
        {
          "data": {
            "text/plain": [
              "<matplotlib.image.AxesImage at 0x7fd41df9e580>"
            ]
          },
          "execution_count": 161,
          "metadata": {},
          "output_type": "execute_result"
        },
        {
          "data": {
            "image/png": "[encoded data removed]",
            "text/plain": [
              "<Figure size 432x288 with 1 Axes>"
            ]
          },
          "metadata": {},
          "output_type": "display_data"
        }
      ],
      "source": [
        "x=train_df[train_df['ImageId']==os.listdir('/content/dump')[np.random.randint(100)]]\n",
        "image=cv2.imread(os.path.join(\"./dump\",x['ImageId'].values[0]),0)\n",
        "plt.imshow(image)\n",
        "mask=rle_to_mask(x['EncodedPixels'].values[0])\n",
        "plt.imshow(mask,alpha=.5)"
      ]
    },
    {
      "cell_type": "code",
      "execution_count": null,
      "metadata": {
        "colab": {
          "base_uri": "https://localhost:8080/",
          "height": 142
        },
        "id": "CP1WaSmDclSM",
        "outputId": "656a0925-7a9b-483b-99e2-cbf33ae00f0d"
      },
      "outputs": [
        {
          "data": {
            "text/html": [
              "\n",
              "  <div id=\"df-118e85b6-346e-4f4f-bf9b-885eb675fe05\">\n",
              "    <div class=\"colab-df-container\">\n",
              "      <div>\n",
              "<style scoped>\n",
              "    .dataframe tbody tr th:only-of-type {\n",
              "        vertical-align: middle;\n",
              "    }\n",
              "\n",
              "    .dataframe tbody tr th {\n",
              "        vertical-align: top;\n",
              "    }\n",
              "\n",
              "    .dataframe thead th {\n",
              "        text-align: right;\n",
              "    }\n",
              "</style>\n",
              "<table border=\"1\" class=\"dataframe\">\n",
              "  <thead>\n",
              "    <tr style=\"text-align: right;\">\n",
              "      <th></th>\n",
              "      <th>ImageId</th>\n",
              "      <th>ClassId</th>\n",
              "      <th>EncodedPixels</th>\n",
              "      <th>ImageId_ClassId</th>\n",
              "    </tr>\n",
              "  </thead>\n",
              "  <tbody>\n",
              "    <tr>\n",
              "      <th>7772</th>\n",
              "      <td>d82fb480-c41e-11ed-87f0-0242ac1c000c.jpg</td>\n",
              "      <td>1</td>\n",
              "      <td>678 20 2278 20 3878 20 5478 20 7078 20 8678 20...</td>\n",
              "      <td>d82fb480-c41e-11ed-87f0-0242ac1c000c.jpg_1</td>\n",
              "    </tr>\n",
              "  </tbody>\n",
              "</table>\n",
              "</div>\n",
              "      <button class=\"colab-df-convert\" onclick=\"convertToInteractive('df-118e85b6-346e-4f4f-bf9b-885eb675fe05')\"\n",
              "              title=\"Convert this dataframe to an interactive table.\"\n",
              "              style=\"display:none;\">\n",
              "        \n",
              "  <svg xmlns=\"http://www.w3.org/2000/svg\" height=\"24px\"viewBox=\"0 0 24 24\"\n",
              "       width=\"24px\">\n",
              "    <path d=\"M0 0h24v24H0V0z\" fill=\"none\"/>\n",
              "    <path d=\"M18.56 5.44l.94 2.06.94-2.06 2.06-.94-2.06-.94-.94-2.06-.94 2.06-2.06.94zm-11 1L8.5 8.5l.94-2.06 2.06-.94-2.06-.94L8.5 2.5l-.94 2.06-2.06.94zm10 10l.94 2.06.94-2.06 2.06-.94-2.06-.94-.94-2.06-.94 2.06-2.06.94z\"/><path d=\"M17.41 7.96l-1.37-1.37c-.4-.4-.92-.59-1.43-.59-.52 0-1.04.2-1.43.59L10.3 9.45l-7.72 7.72c-.78.78-.78 2.05 0 2.83L4 21.41c.39.39.9.59 1.41.59.51 0 1.02-.2 1.41-.59l7.78-7.78 2.81-2.81c.8-.78.8-2.07 0-2.86zM5.41 20L4 18.59l7.72-7.72 1.47 1.35L5.41 20z\"/>\n",
              "  </svg>\n",
              "      </button>\n",
              "      \n",
              "  <style>\n",
              "    .colab-df-container {\n",
              "      display:flex;\n",
              "      flex-wrap:wrap;\n",
              "      gap: 12px;\n",
              "    }\n",
              "\n",
              "    .colab-df-convert {\n",
              "      background-color: #E8F0FE;\n",
              "      border: none;\n",
              "      border-radius: 50%;\n",
              "      cursor: pointer;\n",
              "      display: none;\n",
              "      fill: #1967D2;\n",
              "      height: 32px;\n",
              "      padding: 0 0 0 0;\n",
              "      width: 32px;\n",
              "    }\n",
              "\n",
              "    .colab-df-convert:hover {\n",
              "      background-color: #E2EBFA;\n",
              "      box-shadow: 0px 1px 2px rgba(60, 64, 67, 0.3), 0px 1px 3px 1px rgba(60, 64, 67, 0.15);\n",
              "      fill: #174EA6;\n",
              "    }\n",
              "\n",
              "    [theme=dark] .colab-df-convert {\n",
              "      background-color: #3B4455;\n",
              "      fill: #D2E3FC;\n",
              "    }\n",
              "\n",
              "    [theme=dark] .colab-df-convert:hover {\n",
              "      background-color: #434B5C;\n",
              "      box-shadow: 0px 1px 3px 1px rgba(0, 0, 0, 0.15);\n",
              "      filter: drop-shadow(0px 1px 2px rgba(0, 0, 0, 0.3));\n",
              "      fill: #FFFFFF;\n",
              "    }\n",
              "  </style>\n",
              "\n",
              "      <script>\n",
              "        const buttonEl =\n",
              "          document.querySelector('#df-118e85b6-346e-4f4f-bf9b-885eb675fe05 button.colab-df-convert');\n",
              "        buttonEl.style.display =\n",
              "          google.colab.kernel.accessAllowed ? 'block' : 'none';\n",
              "\n",
              "        async function convertToInteractive(key) {\n",
              "          const element = document.querySelector('#df-118e85b6-346e-4f4f-bf9b-885eb675fe05');\n",
              "          const dataTable =\n",
              "            await google.colab.kernel.invokeFunction('convertToInteractive',\n",
              "                                                     [key], {});\n",
              "          if (!dataTable) return;\n",
              "\n",
              "          const docLinkHtml = 'Like what you see? Visit the ' +\n",
              "            '<a target=\"_blank\" href=https://colab.research.google.com/notebooks/data_table.ipynb>data table notebook</a>'\n",
              "            + ' to learn more about interactive tables.';\n",
              "          element.innerHTML = '';\n",
              "          dataTable['output_type'] = 'display_data';\n",
              "          await google.colab.output.renderOutput(dataTable, element);\n",
              "          const docLink = document.createElement('div');\n",
              "          docLink.innerHTML = docLinkHtml;\n",
              "          element.appendChild(docLink);\n",
              "        }\n",
              "      </script>\n",
              "    </div>\n",
              "  </div>\n",
              "  "
            ],
            "text/plain": [
              "                                       ImageId  ClassId  \\\n",
              "7772  d82fb480-c41e-11ed-87f0-0242ac1c000c.jpg        1   \n",
              "\n",
              "                                          EncodedPixels  \\\n",
              "7772  678 20 2278 20 3878 20 5478 20 7078 20 8678 20...   \n",
              "\n",
              "                                 ImageId_ClassId  \n",
              "7772  d82fb480-c41e-11ed-87f0-0242ac1c000c.jpg_1  "
            ]
          },
          "execution_count": 127,
          "metadata": {},
          "output_type": "execute_result"
        }
      ],
      "source": [
        "train_df[train_df['ImageId']==os.listdir('/content/dump')[np.random.randint(1000)]]\n"
      ]
    },
    {
      "cell_type": "code",
      "execution_count": null,
      "metadata": {
        "colab": {
          "base_uri": "https://localhost:8080/",
          "height": 125
        },
        "id": "E08NgifveGFl",
        "outputId": "4bd2b85e-81a4-4b08-adf6-c4babfd69cc3"
      },
      "outputs": [
        {
          "data": {
            "application/vnd.google.colaboratory.intrinsic+json": {
              "type": "string"
            },
            "text/plain": [
              "'92674 64 92930 127 93186 127 93442 127 93698 127 93954 127 94210 127 94466 127 94722 127 94978 127 95234 127 95490 128 95746 128 96002 128 96258 128 96514 128 96770 128 97042 112 97330 80 97618 48 97906 16 313083 6 313328 17 313574 27 313819 38 314064 49 314309 60 314554 71 314800 81 315045 92 315295 98 315551 98 315807 98 316063 98 316318 99 316574 99 316830 99 317086 99 317342 99 317598 99 317854 99 318109 100 318365 100 318621 100 318877 100 319137 96 319399 90 319661 84 319923 78 320185 72 320448 65 320710 59 320972 53 321234 47 321496 41 321758 35 322021 28 322283 22 322545 16 322807 10 323069 4'"
            ]
          },
          "execution_count": 150,
          "metadata": {},
          "output_type": "execute_result"
        }
      ],
      "source": [
        "x['EncodedPixels'].values[0]"
      ]
    },
    {
      "cell_type": "code",
      "execution_count": 62,
      "metadata": {
        "id": "X_E-wNbuhMWQ"
      },
      "outputs": [],
      "source": [
        "aug_train=pd.read_csv(\"aug_train.csv\")"
      ]
    },
    {
      "cell_type": "code",
      "source": [],
      "metadata": {
        "colab": {
          "base_uri": "https://localhost:8080/",
          "height": 49
        },
        "id": "Cndex8rlFk9B",
        "outputId": "b5c49c55-8d5e-47ba-b87a-b048a332bd1b"
      },
      "execution_count": 66,
      "outputs": [
        {
          "output_type": "execute_result",
          "data": {
            "text/plain": [
              "Empty DataFrame\n",
              "Columns: [Unnamed: 0, ImageId, ClassId, EncodedPixels, ImageId_ClassId]\n",
              "Index: []"
            ],
            "text/html": [
              "\n",
              "  <div id=\"df-96158d62-2eb6-4cb5-8ba4-8a1da866dba7\">\n",
              "    <div class=\"colab-df-container\">\n",
              "      <div>\n",
              "<style scoped>\n",
              "    .dataframe tbody tr th:only-of-type {\n",
              "        vertical-align: middle;\n",
              "    }\n",
              "\n",
              "    .dataframe tbody tr th {\n",
              "        vertical-align: top;\n",
              "    }\n",
              "\n",
              "    .dataframe thead th {\n",
              "        text-align: right;\n",
              "    }\n",
              "</style>\n",
              "<table border=\"1\" class=\"dataframe\">\n",
              "  <thead>\n",
              "    <tr style=\"text-align: right;\">\n",
              "      <th></th>\n",
              "      <th>Unnamed: 0</th>\n",
              "      <th>ImageId</th>\n",
              "      <th>ClassId</th>\n",
              "      <th>EncodedPixels</th>\n",
              "      <th>ImageId_ClassId</th>\n",
              "    </tr>\n",
              "  </thead>\n",
              "  <tbody>\n",
              "  </tbody>\n",
              "</table>\n",
              "</div>\n",
              "      <button class=\"colab-df-convert\" onclick=\"convertToInteractive('df-96158d62-2eb6-4cb5-8ba4-8a1da866dba7')\"\n",
              "              title=\"Convert this dataframe to an interactive table.\"\n",
              "              style=\"display:none;\">\n",
              "        \n",
              "  <svg xmlns=\"http://www.w3.org/2000/svg\" height=\"24px\"viewBox=\"0 0 24 24\"\n",
              "       width=\"24px\">\n",
              "    <path d=\"M0 0h24v24H0V0z\" fill=\"none\"/>\n",
              "    <path d=\"M18.56 5.44l.94 2.06.94-2.06 2.06-.94-2.06-.94-.94-2.06-.94 2.06-2.06.94zm-11 1L8.5 8.5l.94-2.06 2.06-.94-2.06-.94L8.5 2.5l-.94 2.06-2.06.94zm10 10l.94 2.06.94-2.06 2.06-.94-2.06-.94-.94-2.06-.94 2.06-2.06.94z\"/><path d=\"M17.41 7.96l-1.37-1.37c-.4-.4-.92-.59-1.43-.59-.52 0-1.04.2-1.43.59L10.3 9.45l-7.72 7.72c-.78.78-.78 2.05 0 2.83L4 21.41c.39.39.9.59 1.41.59.51 0 1.02-.2 1.41-.59l7.78-7.78 2.81-2.81c.8-.78.8-2.07 0-2.86zM5.41 20L4 18.59l7.72-7.72 1.47 1.35L5.41 20z\"/>\n",
              "  </svg>\n",
              "      </button>\n",
              "      \n",
              "  <style>\n",
              "    .colab-df-container {\n",
              "      display:flex;\n",
              "      flex-wrap:wrap;\n",
              "      gap: 12px;\n",
              "    }\n",
              "\n",
              "    .colab-df-convert {\n",
              "      background-color: #E8F0FE;\n",
              "      border: none;\n",
              "      border-radius: 50%;\n",
              "      cursor: pointer;\n",
              "      display: none;\n",
              "      fill: #1967D2;\n",
              "      height: 32px;\n",
              "      padding: 0 0 0 0;\n",
              "      width: 32px;\n",
              "    }\n",
              "\n",
              "    .colab-df-convert:hover {\n",
              "      background-color: #E2EBFA;\n",
              "      box-shadow: 0px 1px 2px rgba(60, 64, 67, 0.3), 0px 1px 3px 1px rgba(60, 64, 67, 0.15);\n",
              "      fill: #174EA6;\n",
              "    }\n",
              "\n",
              "    [theme=dark] .colab-df-convert {\n",
              "      background-color: #3B4455;\n",
              "      fill: #D2E3FC;\n",
              "    }\n",
              "\n",
              "    [theme=dark] .colab-df-convert:hover {\n",
              "      background-color: #434B5C;\n",
              "      box-shadow: 0px 1px 3px 1px rgba(0, 0, 0, 0.15);\n",
              "      filter: drop-shadow(0px 1px 2px rgba(0, 0, 0, 0.3));\n",
              "      fill: #FFFFFF;\n",
              "    }\n",
              "  </style>\n",
              "\n",
              "      <script>\n",
              "        const buttonEl =\n",
              "          document.querySelector('#df-96158d62-2eb6-4cb5-8ba4-8a1da866dba7 button.colab-df-convert');\n",
              "        buttonEl.style.display =\n",
              "          google.colab.kernel.accessAllowed ? 'block' : 'none';\n",
              "\n",
              "        async function convertToInteractive(key) {\n",
              "          const element = document.querySelector('#df-96158d62-2eb6-4cb5-8ba4-8a1da866dba7');\n",
              "          const dataTable =\n",
              "            await google.colab.kernel.invokeFunction('convertToInteractive',\n",
              "                                                     [key], {});\n",
              "          if (!dataTable) return;\n",
              "\n",
              "          const docLinkHtml = 'Like what you see? Visit the ' +\n",
              "            '<a target=\"_blank\" href=https://colab.research.google.com/notebooks/data_table.ipynb>data table notebook</a>'\n",
              "            + ' to learn more about interactive tables.';\n",
              "          element.innerHTML = '';\n",
              "          dataTable['output_type'] = 'display_data';\n",
              "          await google.colab.output.renderOutput(dataTable, element);\n",
              "          const docLink = document.createElement('div');\n",
              "          docLink.innerHTML = docLinkHtml;\n",
              "          element.appendChild(docLink);\n",
              "        }\n",
              "      </script>\n",
              "    </div>\n",
              "  </div>\n",
              "  "
            ]
          },
          "metadata": {},
          "execution_count": 66
        }
      ]
    },
    {
      "cell_type": "code",
      "source": [],
      "metadata": {
        "id": "SvyC4TxyFrFA"
      },
      "execution_count": null,
      "outputs": []
    }
  ],
  "metadata": {
    "colab": {
      "provenance": []
    },
    "kernelspec": {
      "display_name": "Python 3",
      "name": "python3"
    },
    "language_info": {
      "name": "python"
    }
  },
  "nbformat": 4,
  "nbformat_minor": 0
}